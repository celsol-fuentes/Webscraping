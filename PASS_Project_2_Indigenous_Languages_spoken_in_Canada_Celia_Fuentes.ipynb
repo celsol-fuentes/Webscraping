{
 "cells": [
  {
   "cell_type": "markdown",
   "metadata": {
    "id": "uLSWYk7DCKIm"
   },
   "source": [
    "# **PROJECT 2: Webscrapping and Indigenous Languages Spoken in Canada**\n",
    "\n",
    "For this project, I'll be using BeautifulSoup to scrape data from a website which I will analyze in this Colab Notebook.\n",
    "\n",
    "I have decided to learn about the Indigenous languages spoken in Canada."
   ]
  },
  {
   "cell_type": "markdown",
   "metadata": {
    "id": "oO840MPTqvGb"
   },
   "source": [
    "# Feedback\n",
    "\n",
    "Fantastic project Celia, one of the best I've seen. Very much appreciate the time and care you put into organization of the subcategories and the intuitive path you took with each question. Keep it up!"
   ]
  },
  {
   "cell_type": "markdown",
   "metadata": {
    "id": "xFaw01xguhOg"
   },
   "source": [
    "## **Background**\n",
    "\n",
    "Section 35(2) of the Constitution Act, 1982, recognizes three groups of Aboriginal peoples: Indians (the proper name is First Nations), Inuit and Métis.\n",
    "\n",
    "The *Indian Act*, enacted in 1876, excludes Inuit and Métis. \"Indian Status\" is a legal status granted by the Canadian government to certain members of First Nations who meet conditions decided by the federal government. The *Act* has had detrimental effects on First Nations. For example: the introduction of the residential school system (the last school closed in 1996); the creation of reserves; and historically, denying status to women, the restriction of First Nations leaving a reserve without a federal agent's permission, and the banning of speaking Indigenous languages, or participating in certain cultural and/or religious practices--there are many more. Although amended several times, the *Act* continues to legally restrict, define and confer status to First Nations in Canada.\n",
    "\n",
    "In 2015, The Truth and Reconciliation Commission released its report on the legacy left by residential schools, and included 94 Calls to Action to further reconciliation between Canadians and Indigenous peoples. These seek to redress the health, cultural, social, economical, legal, and political consequences of the residential school system. Calls 13-17 concern language rights. Call 14(i) states: \"Aboriginal languages are a fundamental and valued element of Canadian culture and society, and there is an urgency to preserve them.\" \n",
    "\n",
    "It is in this context, and in the spirit of reconciliation, that I have decided in Project 2 to learn more about the Indigenous languages spoken in Canada.\n",
    "\n",
    "### **References**\n",
    "Constitution Act, 1982 https://laws-lois.justice.gc.ca/eng/const/page-13.html#h-53\n",
    "\n",
    "21 Things you may not know about the Indian Act https://www.cbc.ca/news/indigenous/21-things-you-may-not-know-about-the-indian-act-1.3533613\n",
    "\n",
    "Truth and Reconciliation Commission of Canada: Calls to Action https://www.documentcloud.org/documents/2091412-trc-calls-to-action"
   ]
  },
  {
   "cell_type": "markdown",
   "metadata": {
    "id": "cuHXagLpCVkj"
   },
   "source": [
    "## **Webscraping the Data from Wikipedia**"
   ]
  },
  {
   "cell_type": "code",
   "execution_count": null,
   "metadata": {
    "id": "ZmqD0_yCCbdN"
   },
   "outputs": [],
   "source": [
    "# load packages\n",
    "import requests\n",
    "from bs4 import BeautifulSoup\n",
    "import pandas as pd"
   ]
  },
  {
   "cell_type": "code",
   "execution_count": null,
   "metadata": {
    "id": "bsEa7veQCe6H"
   },
   "outputs": [],
   "source": [
    "# define site url\n",
    "base_site = \"https://en.wikipedia.org/wiki/Languages_of_Canada#Indigenous_languages\""
   ]
  },
  {
   "cell_type": "code",
   "execution_count": null,
   "metadata": {
    "colab": {
     "base_uri": "https://localhost:8080/"
    },
    "id": "eJb6fKnICe2t",
    "outputId": "82ae6785-c17d-4bff-954e-0c885354ed14"
   },
   "outputs": [
    {
     "data": {
      "text/plain": [
       "200"
      ]
     },
     "execution_count": 3,
     "metadata": {
      "tags": []
     },
     "output_type": "execute_result"
    }
   ],
   "source": [
    "# request and status confirmation\n",
    "r = requests.get(base_site)\n",
    "r.status_code"
   ]
  },
  {
   "cell_type": "code",
   "execution_count": null,
   "metadata": {
    "id": "yK2X6uO5CezU"
   },
   "outputs": [],
   "source": [
    "# get the HTML from the webpage\n",
    "html = r.content"
   ]
  },
  {
   "cell_type": "code",
   "execution_count": null,
   "metadata": {
    "id": "ar25PqM1CewU"
   },
   "outputs": [],
   "source": [
    "# convert the HTML to a BeatifulSoup object using lxml parser\n",
    "soup = BeautifulSoup(html, 'lxml')"
   ]
  },
  {
   "cell_type": "code",
   "execution_count": null,
   "metadata": {
    "id": "5MsOQiHvCete"
   },
   "outputs": [],
   "source": [
    "# view table tags\n",
    "tables = soup.find_all(\"table\")\n",
    "#table"
   ]
  },
  {
   "cell_type": "code",
   "execution_count": null,
   "metadata": {
    "id": "K3iHkPfHEgX8"
   },
   "outputs": [],
   "source": [
    "# pd.read all tables at base_site\n",
    "tables = pd.read_html(base_site)"
   ]
  },
  {
   "cell_type": "markdown",
   "metadata": {
    "id": "7sv-3qmg37oL"
   },
   "source": [
    "## **official languages list from tables[1]**\n",
    "\n",
    "At the federal level, Canada's two official languages are English and French. At the provincial level, different provinces recognise English, French or both as official. Nunavut and the Northwest Territories have legislated certain Indigenous languages as official languages. \n",
    "\n",
    "Taking note of official status is important as it entitles citizens to receive services in them on request and to deal with the government in them.\n",
    "\n",
    "The information in the last column of table[1] will be added to the indigenous_languages_df I create further below.\n",
    "\n",
    "**Source:** Statistics Canada, 2011 Census Population by language spoken most often and regularly at home, age groups (total), for Canada, provinces and territories. (Figures reflect single responses.)\n"
   ]
  },
  {
   "cell_type": "code",
   "execution_count": null,
   "metadata": {
    "colab": {
     "base_uri": "https://localhost:8080/",
     "height": 483
    },
    "id": "NQNaD1mxpf0M",
    "outputId": "b3198178-9084-49a0-e4db-89251b292ab1"
   },
   "outputs": [
    {
     "data": {
      "text/html": [
       "<div>\n",
       "<style scoped>\n",
       "    .dataframe tbody tr th:only-of-type {\n",
       "        vertical-align: middle;\n",
       "    }\n",
       "\n",
       "    .dataframe tbody tr th {\n",
       "        vertical-align: top;\n",
       "    }\n",
       "\n",
       "    .dataframe thead th {\n",
       "        text-align: right;\n",
       "    }\n",
       "</style>\n",
       "<table border=\"1\" class=\"dataframe\">\n",
       "  <thead>\n",
       "    <tr style=\"text-align: right;\">\n",
       "      <th></th>\n",
       "      <th>Province/territory</th>\n",
       "      <th>Total population</th>\n",
       "      <th>English</th>\n",
       "      <th>%</th>\n",
       "      <th>French</th>\n",
       "      <th>%.1</th>\n",
       "      <th>Other languages</th>\n",
       "      <th>%.2</th>\n",
       "      <th>Official language(s)</th>\n",
       "    </tr>\n",
       "  </thead>\n",
       "  <tbody>\n",
       "    <tr>\n",
       "      <th>0</th>\n",
       "      <td>Ontario</td>\n",
       "      <td>13312870</td>\n",
       "      <td>9255660</td>\n",
       "      <td>69.52%</td>\n",
       "      <td>568345</td>\n",
       "      <td>4.27%</td>\n",
       "      <td>3865780</td>\n",
       "      <td>29.04%</td>\n",
       "      <td>English[7]</td>\n",
       "    </tr>\n",
       "    <tr>\n",
       "      <th>1</th>\n",
       "      <td>Quebec</td>\n",
       "      <td>8066555</td>\n",
       "      <td>718985</td>\n",
       "      <td>8.91%</td>\n",
       "      <td>6377080</td>\n",
       "      <td>79.06%</td>\n",
       "      <td>1173345</td>\n",
       "      <td>14.54%</td>\n",
       "      <td>French[3]</td>\n",
       "    </tr>\n",
       "    <tr>\n",
       "      <th>2</th>\n",
       "      <td>British Columbia</td>\n",
       "      <td>4598415</td>\n",
       "      <td>3271425</td>\n",
       "      <td>71.14%</td>\n",
       "      <td>71705</td>\n",
       "      <td>1.56%</td>\n",
       "      <td>1360815</td>\n",
       "      <td>29.59%</td>\n",
       "      <td>English (de facto)</td>\n",
       "    </tr>\n",
       "    <tr>\n",
       "      <th>3</th>\n",
       "      <td>Alberta</td>\n",
       "      <td>4026650</td>\n",
       "      <td>3080875</td>\n",
       "      <td>76.51%</td>\n",
       "      <td>86705</td>\n",
       "      <td>2.15%</td>\n",
       "      <td>952785</td>\n",
       "      <td>23.66%</td>\n",
       "      <td>English</td>\n",
       "    </tr>\n",
       "    <tr>\n",
       "      <th>4</th>\n",
       "      <td>Manitoba</td>\n",
       "      <td>1261615</td>\n",
       "      <td>931410</td>\n",
       "      <td>73.83%</td>\n",
       "      <td>46055</td>\n",
       "      <td>3.65%</td>\n",
       "      <td>316120</td>\n",
       "      <td>25.06%</td>\n",
       "      <td>English</td>\n",
       "    </tr>\n",
       "    <tr>\n",
       "      <th>5</th>\n",
       "      <td>Saskatchewan</td>\n",
       "      <td>1083240</td>\n",
       "      <td>910865</td>\n",
       "      <td>84.09%</td>\n",
       "      <td>17735</td>\n",
       "      <td>1.64%</td>\n",
       "      <td>173475</td>\n",
       "      <td>16.01%</td>\n",
       "      <td>English</td>\n",
       "    </tr>\n",
       "    <tr>\n",
       "      <th>6</th>\n",
       "      <td>Nova Scotia</td>\n",
       "      <td>912300</td>\n",
       "      <td>838055</td>\n",
       "      <td>91.86%</td>\n",
       "      <td>33345</td>\n",
       "      <td>3.66%</td>\n",
       "      <td>49165</td>\n",
       "      <td>5.39%</td>\n",
       "      <td>English (de facto)</td>\n",
       "    </tr>\n",
       "    <tr>\n",
       "      <th>7</th>\n",
       "      <td>New Brunswick</td>\n",
       "      <td>736280</td>\n",
       "      <td>481690</td>\n",
       "      <td>65.42%</td>\n",
       "      <td>238865</td>\n",
       "      <td>32.44%</td>\n",
       "      <td>25165</td>\n",
       "      <td>3.42%</td>\n",
       "      <td>English, French</td>\n",
       "    </tr>\n",
       "    <tr>\n",
       "      <th>8</th>\n",
       "      <td>Newfoundland and Labrador</td>\n",
       "      <td>515680</td>\n",
       "      <td>501350</td>\n",
       "      <td>97.22%</td>\n",
       "      <td>3020</td>\n",
       "      <td>0.59%</td>\n",
       "      <td>13035</td>\n",
       "      <td>2.53%</td>\n",
       "      <td>English (de facto)</td>\n",
       "    </tr>\n",
       "    <tr>\n",
       "      <th>9</th>\n",
       "      <td>Prince Edward Island</td>\n",
       "      <td>141020</td>\n",
       "      <td>128975</td>\n",
       "      <td>91.46%</td>\n",
       "      <td>5395</td>\n",
       "      <td>3.83%</td>\n",
       "      <td>7670</td>\n",
       "      <td>5.44%</td>\n",
       "      <td>English (de facto)</td>\n",
       "    </tr>\n",
       "    <tr>\n",
       "      <th>10</th>\n",
       "      <td>Northwest Territories</td>\n",
       "      <td>41380</td>\n",
       "      <td>32545</td>\n",
       "      <td>78.65%</td>\n",
       "      <td>1365</td>\n",
       "      <td>3.30%</td>\n",
       "      <td>8295</td>\n",
       "      <td>20.05%</td>\n",
       "      <td>Chipewyan, Cree, English, French, Gwich’in, In...</td>\n",
       "    </tr>\n",
       "    <tr>\n",
       "      <th>11</th>\n",
       "      <td>Yukon</td>\n",
       "      <td>35555</td>\n",
       "      <td>29765</td>\n",
       "      <td>83.72%</td>\n",
       "      <td>1815</td>\n",
       "      <td>5.10%</td>\n",
       "      <td>4665</td>\n",
       "      <td>13.12%</td>\n",
       "      <td>English, French</td>\n",
       "    </tr>\n",
       "    <tr>\n",
       "      <th>12</th>\n",
       "      <td>Nunavut</td>\n",
       "      <td>35695</td>\n",
       "      <td>11745</td>\n",
       "      <td>32.90%</td>\n",
       "      <td>640</td>\n",
       "      <td>1.79%</td>\n",
       "      <td>24050</td>\n",
       "      <td>67.38%</td>\n",
       "      <td>Inuit Language (Inuktitut, Inuinnaqtun), Engli...</td>\n",
       "    </tr>\n",
       "    <tr>\n",
       "      <th>13</th>\n",
       "      <td>Canada</td>\n",
       "      <td>34767255</td>\n",
       "      <td>20193340</td>\n",
       "      <td>58.08%</td>\n",
       "      <td>7452075</td>\n",
       "      <td>21.43%</td>\n",
       "      <td>7974375</td>\n",
       "      <td>22.94%</td>\n",
       "      <td>English, French</td>\n",
       "    </tr>\n",
       "  </tbody>\n",
       "</table>\n",
       "</div>"
      ],
      "text/plain": [
       "           Province/territory  ...                               Official language(s)\n",
       "0                     Ontario  ...                                         English[7]\n",
       "1                      Quebec  ...                                          French[3]\n",
       "2            British Columbia  ...                                 English (de facto)\n",
       "3                     Alberta  ...                                            English\n",
       "4                    Manitoba  ...                                            English\n",
       "5                Saskatchewan  ...                                            English\n",
       "6                 Nova Scotia  ...                                 English (de facto)\n",
       "7               New Brunswick  ...                                    English, French\n",
       "8   Newfoundland and Labrador  ...                                 English (de facto)\n",
       "9        Prince Edward Island  ...                                 English (de facto)\n",
       "10      Northwest Territories  ...  Chipewyan, Cree, English, French, Gwich’in, In...\n",
       "11                      Yukon  ...                                    English, French\n",
       "12                    Nunavut  ...  Inuit Language (Inuktitut, Inuinnaqtun), Engli...\n",
       "13                     Canada  ...                                    English, French\n",
       "\n",
       "[14 rows x 9 columns]"
      ]
     },
     "execution_count": 8,
     "metadata": {
      "tags": []
     },
     "output_type": "execute_result"
    }
   ],
   "source": [
    "tables[1]"
   ]
  },
  {
   "cell_type": "code",
   "execution_count": null,
   "metadata": {
    "colab": {
     "base_uri": "https://localhost:8080/"
    },
    "id": "Br-N85DYps1U",
    "outputId": "6e809bb1-2cfc-4bac-b6a6-29eef092e366"
   },
   "outputs": [
    {
     "data": {
      "text/plain": [
       "array(['English[7]', 'French[3]', 'English (de facto)', 'English',\n",
       "       'English, French',\n",
       "       'Chipewyan, Cree, English, French, Gwich’in, Inuinnaqtun, Inuktitut, Inuvialuktun, North Slavey, South Slavey, Tłįchǫ[8]',\n",
       "       'Inuit Language (Inuktitut, Inuinnaqtun), English, French[9]'],\n",
       "      dtype=object)"
      ]
     },
     "execution_count": 9,
     "metadata": {
      "tags": []
     },
     "output_type": "execute_result"
    }
   ],
   "source": [
    "tables[1]['Official language(s)'].unique()"
   ]
  },
  {
   "cell_type": "markdown",
   "metadata": {
    "id": "Q8HkTZi93SyP"
   },
   "source": [
    "## **indigenous_languages_df = tables[7]**\n",
    "\n",
    "The raw data in **indigenous_languages_df** is two decades old. The survey to collect the data was done from September 2001 to January 2002. \n",
    "\n",
    "indigenous_languages_df has four columns(0 to 3), and 26 rows (0 to 25). Home language is defined as the language most spoken at home.\n",
    "\n",
    "**Indigenous languages**  26 non-null     object\n",
    "\n",
    "**No. of speakers**       26 non-null     object\n",
    "\n",
    "**Mother tongue**        26 non-null     object\n",
    "\n",
    "**Home language**        26 non-null     object\n",
    "\n",
    "**Source:** Statistics Canada, 2006 Census Profile of Federal Electoral Districts (2003 Representation Order): Language, Mobility and Migration and Immigration and Citizenship Ottawa, 2007, pp. 2, 6, 10. \n",
    "\"Aboriginal languages\". Statistics Canada. Retrieved 2009-10-05.\n",
    "\n",
    "'Aboriginal languages' was based on the survey conducted between September 2001 and January 2002: \"Statistics Canada, in partnership with several Aboriginal organizations, conducted the 2001 Aboriginal Peoples Survey (APS) to collect information on the lifestyles and living conditions of Aboriginal people in Canada. The Aboriginal organizations included: the Congress of Aboriginal Peoples, Inuit Tapiriit Kanatami, Métis National Council, National Association Friendship Centres and Native Women’s Association of Canada and initially, the Assembly of First Nations...\""
   ]
  },
  {
   "cell_type": "code",
   "execution_count": null,
   "metadata": {
    "id": "eeZryUwL3l-8"
   },
   "outputs": [],
   "source": [
    "indigenous_languages_df = tables[7]"
   ]
  },
  {
   "cell_type": "code",
   "execution_count": null,
   "metadata": {
    "colab": {
     "base_uri": "https://localhost:8080/",
     "height": 855
    },
    "id": "WWGB3stJDLAe",
    "outputId": "aa24ffbd-11cb-4732-ae50-58fec971fb4f"
   },
   "outputs": [
    {
     "data": {
      "text/html": [
       "<div>\n",
       "<style scoped>\n",
       "    .dataframe tbody tr th:only-of-type {\n",
       "        vertical-align: middle;\n",
       "    }\n",
       "\n",
       "    .dataframe tbody tr th {\n",
       "        vertical-align: top;\n",
       "    }\n",
       "\n",
       "    .dataframe thead th {\n",
       "        text-align: right;\n",
       "    }\n",
       "</style>\n",
       "<table border=\"1\" class=\"dataframe\">\n",
       "  <thead>\n",
       "    <tr style=\"text-align: right;\">\n",
       "      <th></th>\n",
       "      <th>Indigenous languages</th>\n",
       "      <th>No. of speakers</th>\n",
       "      <th>Mother tongue</th>\n",
       "      <th>Home language</th>\n",
       "    </tr>\n",
       "  </thead>\n",
       "  <tbody>\n",
       "    <tr>\n",
       "      <th>0</th>\n",
       "      <td>Cree</td>\n",
       "      <td>99950</td>\n",
       "      <td>78855</td>\n",
       "      <td>47190</td>\n",
       "    </tr>\n",
       "    <tr>\n",
       "      <th>1</th>\n",
       "      <td>Inuktitut</td>\n",
       "      <td>35690</td>\n",
       "      <td>32010</td>\n",
       "      <td>25290</td>\n",
       "    </tr>\n",
       "    <tr>\n",
       "      <th>2</th>\n",
       "      <td>Ojibwe</td>\n",
       "      <td>32460</td>\n",
       "      <td>11115</td>\n",
       "      <td>11115</td>\n",
       "    </tr>\n",
       "    <tr>\n",
       "      <th>3</th>\n",
       "      <td>Montagnais-Naskapi (Innu)</td>\n",
       "      <td>11815</td>\n",
       "      <td>10970</td>\n",
       "      <td>9720</td>\n",
       "    </tr>\n",
       "    <tr>\n",
       "      <th>4</th>\n",
       "      <td>Dene Suline</td>\n",
       "      <td>11130</td>\n",
       "      <td>9750</td>\n",
       "      <td>7490</td>\n",
       "    </tr>\n",
       "    <tr>\n",
       "      <th>5</th>\n",
       "      <td>Oji-Cree (Anishinini)</td>\n",
       "      <td>12605</td>\n",
       "      <td>8480</td>\n",
       "      <td>8480</td>\n",
       "    </tr>\n",
       "    <tr>\n",
       "      <th>6</th>\n",
       "      <td>Mi'kmaq</td>\n",
       "      <td>8750</td>\n",
       "      <td>7365</td>\n",
       "      <td>3985</td>\n",
       "    </tr>\n",
       "    <tr>\n",
       "      <th>7</th>\n",
       "      <td>Siouan languages (Dakota/Sioux)</td>\n",
       "      <td>6495</td>\n",
       "      <td>5585</td>\n",
       "      <td>3780</td>\n",
       "    </tr>\n",
       "    <tr>\n",
       "      <th>8</th>\n",
       "      <td>Atikamekw</td>\n",
       "      <td>5645</td>\n",
       "      <td>5245</td>\n",
       "      <td>4745</td>\n",
       "    </tr>\n",
       "    <tr>\n",
       "      <th>9</th>\n",
       "      <td>Blackfoot</td>\n",
       "      <td>4915</td>\n",
       "      <td>3085</td>\n",
       "      <td>3085</td>\n",
       "    </tr>\n",
       "    <tr>\n",
       "      <th>10</th>\n",
       "      <td>Tłįchǫ or Dogrib</td>\n",
       "      <td>2645</td>\n",
       "      <td>2015</td>\n",
       "      <td>1110</td>\n",
       "    </tr>\n",
       "    <tr>\n",
       "      <th>11</th>\n",
       "      <td>Algonquin</td>\n",
       "      <td>2685</td>\n",
       "      <td>1920</td>\n",
       "      <td>385</td>\n",
       "    </tr>\n",
       "    <tr>\n",
       "      <th>12</th>\n",
       "      <td>Carrier</td>\n",
       "      <td>2495</td>\n",
       "      <td>1560</td>\n",
       "      <td>605</td>\n",
       "    </tr>\n",
       "    <tr>\n",
       "      <th>13</th>\n",
       "      <td>Gitksan</td>\n",
       "      <td>1575</td>\n",
       "      <td>1175</td>\n",
       "      <td>320</td>\n",
       "    </tr>\n",
       "    <tr>\n",
       "      <th>14</th>\n",
       "      <td>Chilcotin</td>\n",
       "      <td>1400</td>\n",
       "      <td>1070</td>\n",
       "      <td>435</td>\n",
       "    </tr>\n",
       "    <tr>\n",
       "      <th>15</th>\n",
       "      <td>North Slave (Hare)</td>\n",
       "      <td>1235</td>\n",
       "      <td>650</td>\n",
       "      <td>650</td>\n",
       "    </tr>\n",
       "    <tr>\n",
       "      <th>16</th>\n",
       "      <td>South Slave</td>\n",
       "      <td>2315</td>\n",
       "      <td>600</td>\n",
       "      <td>600</td>\n",
       "    </tr>\n",
       "    <tr>\n",
       "      <th>17</th>\n",
       "      <td>Malecite</td>\n",
       "      <td>790</td>\n",
       "      <td>535</td>\n",
       "      <td>140</td>\n",
       "    </tr>\n",
       "    <tr>\n",
       "      <th>18</th>\n",
       "      <td>Chipewyan</td>\n",
       "      <td>770</td>\n",
       "      <td>525</td>\n",
       "      <td>125</td>\n",
       "    </tr>\n",
       "    <tr>\n",
       "      <th>19</th>\n",
       "      <td>Inuinnaqtun</td>\n",
       "      <td>580</td>\n",
       "      <td>370</td>\n",
       "      <td>70</td>\n",
       "    </tr>\n",
       "    <tr>\n",
       "      <th>20</th>\n",
       "      <td>Kutchin-Gwich’in (Loucheaux)</td>\n",
       "      <td>570</td>\n",
       "      <td>355</td>\n",
       "      <td>25</td>\n",
       "    </tr>\n",
       "    <tr>\n",
       "      <th>21</th>\n",
       "      <td>Mohawk</td>\n",
       "      <td>615</td>\n",
       "      <td>290</td>\n",
       "      <td>20</td>\n",
       "    </tr>\n",
       "    <tr>\n",
       "      <th>22</th>\n",
       "      <td>Shuswap</td>\n",
       "      <td>1650</td>\n",
       "      <td>250</td>\n",
       "      <td>250</td>\n",
       "    </tr>\n",
       "    <tr>\n",
       "      <th>23</th>\n",
       "      <td>Nisga'a</td>\n",
       "      <td>1090</td>\n",
       "      <td>250</td>\n",
       "      <td>250</td>\n",
       "    </tr>\n",
       "    <tr>\n",
       "      <th>24</th>\n",
       "      <td>Tlingit</td>\n",
       "      <td>175</td>\n",
       "      <td>0</td>\n",
       "      <td>0</td>\n",
       "    </tr>\n",
       "    <tr>\n",
       "      <th>25</th>\n",
       "      <td>Atgangmuurngniq</td>\n",
       "      <td>47[62]</td>\n",
       "      <td>Unknown</td>\n",
       "      <td>Unknown</td>\n",
       "    </tr>\n",
       "  </tbody>\n",
       "</table>\n",
       "</div>"
      ],
      "text/plain": [
       "               Indigenous languages No. of speakers Mother tongue Home language\n",
       "0                              Cree           99950         78855         47190\n",
       "1                         Inuktitut           35690         32010         25290\n",
       "2                            Ojibwe           32460         11115         11115\n",
       "3         Montagnais-Naskapi (Innu)           11815         10970          9720\n",
       "4                       Dene Suline           11130          9750          7490\n",
       "5             Oji-Cree (Anishinini)           12605          8480          8480\n",
       "6                           Mi'kmaq            8750          7365          3985\n",
       "7   Siouan languages (Dakota/Sioux)            6495          5585          3780\n",
       "8                         Atikamekw            5645          5245          4745\n",
       "9                         Blackfoot            4915          3085          3085\n",
       "10                 Tłįchǫ or Dogrib            2645          2015          1110\n",
       "11                        Algonquin            2685          1920           385\n",
       "12                          Carrier            2495          1560           605\n",
       "13                          Gitksan            1575          1175           320\n",
       "14                        Chilcotin            1400          1070           435\n",
       "15               North Slave (Hare)            1235           650           650\n",
       "16                      South Slave            2315           600           600\n",
       "17                         Malecite             790           535           140\n",
       "18                        Chipewyan             770           525           125\n",
       "19                      Inuinnaqtun             580           370            70\n",
       "20     Kutchin-Gwich’in (Loucheaux)             570           355            25\n",
       "21                           Mohawk             615           290            20\n",
       "22                          Shuswap            1650           250           250\n",
       "23                          Nisga'a            1090           250           250\n",
       "24                          Tlingit             175             0             0\n",
       "25                  Atgangmuurngniq          47[62]       Unknown       Unknown"
      ]
     },
     "execution_count": 11,
     "metadata": {
      "tags": []
     },
     "output_type": "execute_result"
    }
   ],
   "source": [
    "indigenous_languages_df"
   ]
  },
  {
   "cell_type": "markdown",
   "metadata": {
    "id": "PIWOi5EYlHf7"
   },
   "source": [
    "### **Cleaning the df**\n",
    "\n",
    "Index 25 contains a footnote left over from Wikipedia. Two \"Unknown\" will be changed into NaN values and I change the last three columns to numeric.\n",
    "\n",
    "I will also add a column stating whether a language has official recognition."
   ]
  },
  {
   "cell_type": "code",
   "execution_count": null,
   "metadata": {
    "colab": {
     "base_uri": "https://localhost:8080/"
    },
    "id": "ClCIUf4SkRgK",
    "outputId": "e65c3775-2fc8-4ca3-ba17-48174a6c2b2a"
   },
   "outputs": [
    {
     "data": {
      "text/plain": [
       "Indigenous languages    Atgangmuurngniq\n",
       "No. of speakers                  47[62]\n",
       "Mother tongue                   Unknown\n",
       "Home language                   Unknown\n",
       "Name: 25, dtype: object"
      ]
     },
     "execution_count": 12,
     "metadata": {
      "tags": []
     },
     "output_type": "execute_result"
    }
   ],
   "source": [
    "indigenous_languages_df.iloc[25]"
   ]
  },
  {
   "cell_type": "code",
   "execution_count": null,
   "metadata": {
    "id": "EnWv2X_sjxmX"
   },
   "outputs": [],
   "source": [
    "# remove wiki footnote\n",
    "mask = indigenous_languages_df['No. of speakers'] == '47[62]'\n",
    "column_name = 'No. of speakers'\n",
    "indigenous_languages_df.loc[mask, column_name] = '47'"
   ]
  },
  {
   "cell_type": "code",
   "execution_count": null,
   "metadata": {
    "colab": {
     "base_uri": "https://localhost:8080/"
    },
    "id": "E8cnxLvXj6sw",
    "outputId": "46b2de6b-365c-4575-e159-dd455641582f"
   },
   "outputs": [
    {
     "name": "stdout",
     "output_type": "stream",
     "text": [
      "Indigenous languages     object\n",
      "No. of speakers           int64\n",
      "Mother tongue           float64\n",
      "Home language           float64\n",
      "dtype: object\n"
     ]
    }
   ],
   "source": [
    "# \"Unknown\" to Nan, columns to numeric\n",
    "indigenous_languages_df[['No. of speakers', 'Mother tongue', 'Home language']] = indigenous_languages_df[['No. of speakers', 'Mother tongue', 'Home language']].apply(pd.to_numeric, errors='coerce')\n",
    "#df1 = indigenous_languages_df.apply(pd.to_numeric, errors='coerce')\n",
    "print(indigenous_languages_df.dtypes)"
   ]
  },
  {
   "cell_type": "code",
   "execution_count": null,
   "metadata": {
    "colab": {
     "base_uri": "https://localhost:8080/"
    },
    "id": "phQ0RkUsBw6E",
    "outputId": "cadc1623-0bd8-4b8f-a9e3-dbf06bf99c3d"
   },
   "outputs": [
    {
     "name": "stdout",
     "output_type": "stream",
     "text": [
      "<class 'pandas.core.frame.DataFrame'>\n",
      "RangeIndex: 26 entries, 0 to 25\n",
      "Data columns (total 4 columns):\n",
      " #   Column                Non-Null Count  Dtype  \n",
      "---  ------                --------------  -----  \n",
      " 0   Indigenous languages  26 non-null     object \n",
      " 1   No. of speakers       26 non-null     int64  \n",
      " 2   Mother tongue         25 non-null     float64\n",
      " 3   Home language         25 non-null     float64\n",
      "dtypes: float64(2), int64(1), object(1)\n",
      "memory usage: 960.0+ bytes\n"
     ]
    }
   ],
   "source": [
    "indigenous_languages_df.info()"
   ]
  },
  {
   "cell_type": "markdown",
   "metadata": {
    "id": "sh0-NOIEk6Bc"
   },
   "source": [
    "## **Indigenous language names**\n",
    "\n",
    "Indigenous language names can be known by several names or have several spellings. The names from the tables I scaped are therefore not all the same.\n",
    "\n",
    "For example, North Slave and South Slave are also known as North Slavey and South Slavey.  Furthermore, while doing research, I saw that the Indigenous name for North Slave (hare) is K’áshogot’ıne.\n",
    "\n",
    "Lacking knowledge in the proper names to use, I have opted for prioritizing the names found in table[1] and collected in the indigenous_official list, because these come from data from the more recent 2011 census (as opposed to a survey from 2001-2002). I also use a \"most information possible\" approach. \n",
    "\n",
    "Here is a list of the names I update in indigenous_languages_df when these differ from names found in table[1]:\n",
    "\n",
    "**indigenous_languages_df changes:**\n",
    "\n",
    "Tłįchǫ or Dogrib = Tłįchǫ(Dogrib)\n",
    "\n",
    "North Slave (Hare) = North Slavey (Hare)\n",
    "\n",
    "South Slave = South Slavey\n",
    "\n",
    "The more specific Kutchin-Gwich’in (Loucheaux)\tremains as is, not being replaced by Gwich’in. Instead, I change the name in the indigenous_official list so the code works to make the \"official_status\" column. \"Yes\" means the language has official staus. \"No\" means the language does not have official status.\n",
    "\n",
    "Inuvialuktun does not appear listed in indigenous_languages_df, but I left it on the list. I removed English and French, because my focus is on Indigenous languages.\n",
    "\n",
    "### **References**\n",
    "https://en.wikipedia.org/wiki/Inuinnaqtun\n",
    "\n",
    "https://www.thecanadianencyclopedia.ca/en/article/tlicho-dogrib#:~:text=Tlicho%20(T%C5%82%C4%B1%CC%A8ch%C7%AB)%2C%20also%20known,(or%20Athabascan)%20language%20family.\n",
    "\n",
    "https://www.languagegeek.com/dene/kashogotine/north_slavey.html"
   ]
  },
  {
   "cell_type": "code",
   "execution_count": null,
   "metadata": {
    "id": "OGneciqNnt1G"
   },
   "outputs": [],
   "source": [
    "mask1 = indigenous_languages_df['Indigenous languages'] == 'Tłįchǫ or Dogrib'\n",
    "column_name = 'Indigenous languages'\n",
    "indigenous_languages_df.loc[mask1, column_name] = 'Tłįchǫ (Dogrib)'"
   ]
  },
  {
   "cell_type": "code",
   "execution_count": null,
   "metadata": {
    "id": "2ydxhOgzRUun"
   },
   "outputs": [],
   "source": [
    "mask2 = indigenous_languages_df['Indigenous languages'] == 'North Slave (Hare)'\n",
    "column_name = 'Indigenous languages'\n",
    "indigenous_languages_df.loc[mask2, column_name] = 'North Slavey (Hare)'"
   ]
  },
  {
   "cell_type": "code",
   "execution_count": null,
   "metadata": {
    "id": "Br6L6DX-SgGg"
   },
   "outputs": [],
   "source": [
    "mask3 = indigenous_languages_df['Indigenous languages'] == 'South Slave'\n",
    "column_name = 'Indigenous languages'\n",
    "indigenous_languages_df.loc[mask3, column_name] = 'South Slavey'"
   ]
  },
  {
   "cell_type": "code",
   "execution_count": null,
   "metadata": {
    "id": "Pt-X8PfUkg-t"
   },
   "outputs": [],
   "source": [
    "indigenous_official = [\"Chipewyan\", \"Cree\", \"Kutchin-Gwich’in (Loucheaux)\", \"Inuinnaqtun\", \"Inuktitut\", \"Inuvialuktun\", \"North Slavey (Hare)\", \"South Slavey\", \"Tłįchǫ (Dogrib)\"]\n",
    "\n",
    "# create new 'official_status' column\n",
    "indigenous_languages_df[\"official_status\"] = [\"Yes\" if x in indigenous_official else \"No\" for x in indigenous_languages_df[\"Indigenous languages\"]]\n"
   ]
  },
  {
   "cell_type": "markdown",
   "metadata": {
    "id": "9ChE3CB9v8Fi"
   },
   "source": [
    "## **Explore, Visualize, and Learn**"
   ]
  },
  {
   "cell_type": "code",
   "execution_count": null,
   "metadata": {
    "id": "ul-LDo_EwBWT"
   },
   "outputs": [],
   "source": [
    "import matplotlib.pyplot as plt\n",
    "import seaborn as sns\n",
    "%matplotlib inline\n",
    "sns.set()"
   ]
  },
  {
   "cell_type": "markdown",
   "metadata": {
    "id": "GXsHfXYj0mA8"
   },
   "source": [
    "### Which five languages are the most spoken?\n",
    "\n",
    "I create two subsets. The first contains the top five in terms of the most speakers; the other consists of the remaining languages. I then concatenate the two."
   ]
  },
  {
   "cell_type": "code",
   "execution_count": null,
   "metadata": {
    "id": "LQ9rBpUHwQwP"
   },
   "outputs": [],
   "source": [
    "#the five most spoken\n",
    "five_most_spoken = indigenous_languages_df.nlargest(5,'No. of speakers')\n",
    "five_most_spoken\n",
    "\n",
    "\n",
    "#others\n",
    "new_row = pd.DataFrame(data = {\n",
    "    'Indigenous languages' : ['Others'],\n",
    "    'No. of speakers' : [indigenous_languages_df['No. of speakers'][5:].sum()]\n",
    "})\n",
    "\n",
    "\n",
    "#combining both subsets\n",
    "df2 = pd.concat([five_most_spoken, new_row])"
   ]
  },
  {
   "cell_type": "markdown",
   "metadata": {
    "id": "sBuY8uyN5310"
   },
   "source": [
    "**The five most spoken are:** Cree, Inuktitut, Ojibwe, Oji-Cree (Anishinini), and Montagnais-Naskapi (Innu).\n"
   ]
  },
  {
   "cell_type": "code",
   "execution_count": null,
   "metadata": {
    "colab": {
     "base_uri": "https://localhost:8080/",
     "height": 204
    },
    "id": "X1wT7n4k5W4J",
    "outputId": "94067c0e-deae-4f5f-94f2-91bf5b5a815e"
   },
   "outputs": [
    {
     "data": {
      "text/html": [
       "<div>\n",
       "<style scoped>\n",
       "    .dataframe tbody tr th:only-of-type {\n",
       "        vertical-align: middle;\n",
       "    }\n",
       "\n",
       "    .dataframe tbody tr th {\n",
       "        vertical-align: top;\n",
       "    }\n",
       "\n",
       "    .dataframe thead th {\n",
       "        text-align: right;\n",
       "    }\n",
       "</style>\n",
       "<table border=\"1\" class=\"dataframe\">\n",
       "  <thead>\n",
       "    <tr style=\"text-align: right;\">\n",
       "      <th></th>\n",
       "      <th>Indigenous languages</th>\n",
       "      <th>No. of speakers</th>\n",
       "    </tr>\n",
       "  </thead>\n",
       "  <tbody>\n",
       "    <tr>\n",
       "      <th>0</th>\n",
       "      <td>Cree</td>\n",
       "      <td>99950</td>\n",
       "    </tr>\n",
       "    <tr>\n",
       "      <th>1</th>\n",
       "      <td>Inuktitut</td>\n",
       "      <td>35690</td>\n",
       "    </tr>\n",
       "    <tr>\n",
       "      <th>2</th>\n",
       "      <td>Ojibwe</td>\n",
       "      <td>32460</td>\n",
       "    </tr>\n",
       "    <tr>\n",
       "      <th>5</th>\n",
       "      <td>Oji-Cree (Anishinini)</td>\n",
       "      <td>12605</td>\n",
       "    </tr>\n",
       "    <tr>\n",
       "      <th>3</th>\n",
       "      <td>Montagnais-Naskapi (Innu)</td>\n",
       "      <td>11815</td>\n",
       "    </tr>\n",
       "  </tbody>\n",
       "</table>\n",
       "</div>"
      ],
      "text/plain": [
       "        Indigenous languages  No. of speakers\n",
       "0                       Cree            99950\n",
       "1                  Inuktitut            35690\n",
       "2                     Ojibwe            32460\n",
       "5      Oji-Cree (Anishinini)            12605\n",
       "3  Montagnais-Naskapi (Innu)            11815"
      ]
     },
     "execution_count": 23,
     "metadata": {
      "tags": []
     },
     "output_type": "execute_result"
    }
   ],
   "source": [
    "#the five most spoken\n",
    "five_most_spoken[[\"Indigenous languages\", \"No. of speakers\"]]"
   ]
  },
  {
   "cell_type": "markdown",
   "metadata": {
    "id": "F9O-neC16ZhX"
   },
   "source": [
    "Here I use a pie chart to visualize the proportions."
   ]
  },
  {
   "cell_type": "code",
   "execution_count": null,
   "metadata": {
    "colab": {
     "base_uri": "https://localhost:8080/",
     "height": 248
    },
    "id": "dbz3v9Ke5ul9",
    "outputId": "113fbe95-f416-47cf-d0c3-1554eac9518b"
   },
   "outputs": [
    {
     "data": {
      "image/png": "[encoded data removed]",
      "text/plain": [
       "<Figure size 432x288 with 1 Axes>"
      ]
     },
     "metadata": {
      "tags": []
     },
     "output_type": "display_data"
    }
   ],
   "source": [
    "# visualize the pie chart\n",
    "plt.pie(df2['No. of speakers'], autopct='%1.1f%%')\n",
    "plt.legend(labels = df2['Indigenous languages'], loc='upper right', bbox_to_anchor=(-0.1, 1.),\n",
    "           fontsize=8)\n",
    "plt.show()"
   ]
  },
  {
   "cell_type": "markdown",
   "metadata": {
    "id": "cjy4EeGv18w0"
   },
   "source": [
    "### **Which are the ten most endangered languages?**\n",
    "\n",
    "**The ten most endangered are:** Atgangmuurngniq, Tlingit, Kutchin-Gwich’in (Loucheaux), Inuinnaqtun, Mohawk, Chipewyan, Malecite, Nisga'a, North Slavey (Hare), and Chilcotin."
   ]
  },
  {
   "cell_type": "code",
   "execution_count": null,
   "metadata": {
    "colab": {
     "base_uri": "https://localhost:8080/",
     "height": 359
    },
    "id": "TP0OQSSVxOIs",
    "outputId": "ecd00521-5a39-4f93-93ed-aed78bcdecd0"
   },
   "outputs": [
    {
     "data": {
      "text/html": [
       "<div>\n",
       "<style scoped>\n",
       "    .dataframe tbody tr th:only-of-type {\n",
       "        vertical-align: middle;\n",
       "    }\n",
       "\n",
       "    .dataframe tbody tr th {\n",
       "        vertical-align: top;\n",
       "    }\n",
       "\n",
       "    .dataframe thead th {\n",
       "        text-align: right;\n",
       "    }\n",
       "</style>\n",
       "<table border=\"1\" class=\"dataframe\">\n",
       "  <thead>\n",
       "    <tr style=\"text-align: right;\">\n",
       "      <th></th>\n",
       "      <th>Indigenous languages</th>\n",
       "      <th>No. of speakers</th>\n",
       "    </tr>\n",
       "  </thead>\n",
       "  <tbody>\n",
       "    <tr>\n",
       "      <th>25</th>\n",
       "      <td>Atgangmuurngniq</td>\n",
       "      <td>47</td>\n",
       "    </tr>\n",
       "    <tr>\n",
       "      <th>24</th>\n",
       "      <td>Tlingit</td>\n",
       "      <td>175</td>\n",
       "    </tr>\n",
       "    <tr>\n",
       "      <th>20</th>\n",
       "      <td>Kutchin-Gwich’in (Loucheaux)</td>\n",
       "      <td>570</td>\n",
       "    </tr>\n",
       "    <tr>\n",
       "      <th>19</th>\n",
       "      <td>Inuinnaqtun</td>\n",
       "      <td>580</td>\n",
       "    </tr>\n",
       "    <tr>\n",
       "      <th>21</th>\n",
       "      <td>Mohawk</td>\n",
       "      <td>615</td>\n",
       "    </tr>\n",
       "    <tr>\n",
       "      <th>18</th>\n",
       "      <td>Chipewyan</td>\n",
       "      <td>770</td>\n",
       "    </tr>\n",
       "    <tr>\n",
       "      <th>17</th>\n",
       "      <td>Malecite</td>\n",
       "      <td>790</td>\n",
       "    </tr>\n",
       "    <tr>\n",
       "      <th>23</th>\n",
       "      <td>Nisga'a</td>\n",
       "      <td>1090</td>\n",
       "    </tr>\n",
       "    <tr>\n",
       "      <th>15</th>\n",
       "      <td>North Slavey (Hare)</td>\n",
       "      <td>1235</td>\n",
       "    </tr>\n",
       "    <tr>\n",
       "      <th>14</th>\n",
       "      <td>Chilcotin</td>\n",
       "      <td>1400</td>\n",
       "    </tr>\n",
       "  </tbody>\n",
       "</table>\n",
       "</div>"
      ],
      "text/plain": [
       "            Indigenous languages  No. of speakers\n",
       "25               Atgangmuurngniq               47\n",
       "24                       Tlingit              175\n",
       "20  Kutchin-Gwich’in (Loucheaux)              570\n",
       "19                   Inuinnaqtun              580\n",
       "21                        Mohawk              615\n",
       "18                     Chipewyan              770\n",
       "17                      Malecite              790\n",
       "23                       Nisga'a             1090\n",
       "15           North Slavey (Hare)             1235\n",
       "14                     Chilcotin             1400"
      ]
     },
     "execution_count": 25,
     "metadata": {
      "tags": []
     },
     "output_type": "execute_result"
    }
   ],
   "source": [
    "#the ten most endangered\n",
    "ten_most_endangered = indigenous_languages_df.nsmallest(10, 'No. of speakers')\n",
    "\n",
    "ten_most_endangered[['Indigenous languages','No. of speakers', ]]"
   ]
  },
  {
   "cell_type": "markdown",
   "metadata": {
    "id": "sZhjmeUh_I3n"
   },
   "source": [
    "### **How many languages have official status?**\n",
    "\n",
    "18 do not have official status\n",
    "\n",
    "8 do have official status"
   ]
  },
  {
   "cell_type": "code",
   "execution_count": null,
   "metadata": {
    "colab": {
     "base_uri": "https://localhost:8080/"
    },
    "id": "JyBHs_e6neM1",
    "outputId": "6102bf67-032c-4e91-e8c6-b56bd3e6cf97"
   },
   "outputs": [
    {
     "data": {
      "text/plain": [
       "No     18\n",
       "Yes     8\n",
       "Name: official_status, dtype: int64"
      ]
     },
     "execution_count": 26,
     "metadata": {
      "tags": []
     },
     "output_type": "execute_result"
    }
   ],
   "source": [
    "official_status_counts = indigenous_languages_df['official_status'].value_counts()\n",
    "official_status_counts"
   ]
  },
  {
   "cell_type": "code",
   "execution_count": null,
   "metadata": {
    "colab": {
     "base_uri": "https://localhost:8080/",
     "height": 339
    },
    "id": "BQWzi32nnyzo",
    "outputId": "9aea7f08-5f80-43c3-948c-a13ef8c06741"
   },
   "outputs": [
    {
     "data": {
      "image/png": "[encoded data removed]",
      "text/plain": [
       "<Figure size 576x360 with 1 Axes>"
      ]
     },
     "metadata": {
      "tags": []
     },
     "output_type": "display_data"
    }
   ],
   "source": [
    "sns.set(style='whitegrid')\n",
    "plt.figure(figsize=(8,5))\n",
    "sns.countplot(x='official_status', data=indigenous_languages_df)\n",
    "plt.show()\n"
   ]
  },
  {
   "cell_type": "markdown",
   "metadata": {
    "id": "WxSeecuSKLvP"
   },
   "source": [
    "### **How many have a large proportion of speakers whose language is not their mother tongue?**\n",
    "\n",
    "I define a \"large proportion\" as being more than 25% of speakers not originally learning a language as a mother tongue.\n",
    "\n"
   ]
  },
  {
   "cell_type": "code",
   "execution_count": null,
   "metadata": {
    "id": "3naO9_IIGdtk"
   },
   "outputs": [],
   "source": [
    "indigenous_languages_df[\"Non_mother-tongue_speakers_No\"] = indigenous_languages_df[\"No. of speakers\"] - indigenous_languages_df[\"Mother tongue\"]\n",
    "indigenous_languages_df[\"Non_mother-tongue_speakers_ratio\"] = indigenous_languages_df[\"Non_mother-tongue_speakers_No\"] / indigenous_languages_df[\"No. of speakers\"]"
   ]
  },
  {
   "cell_type": "code",
   "execution_count": null,
   "metadata": {
    "id": "0SaF2GiXJXDa"
   },
   "outputs": [],
   "source": [
    "large_second_lang = indigenous_languages_df[indigenous_languages_df[\"Non_mother-tongue_speakers_ratio\"] > 0.25]"
   ]
  },
  {
   "cell_type": "code",
   "execution_count": null,
   "metadata": {
    "colab": {
     "base_uri": "https://localhost:8080/",
     "height": 545
    },
    "id": "N5M2NCk2Nf45",
    "outputId": "02187703-ede7-41b1-a8fa-a4a356f4045c"
   },
   "outputs": [
    {
     "data": {
      "text/html": [
       "<div>\n",
       "<style scoped>\n",
       "    .dataframe tbody tr th:only-of-type {\n",
       "        vertical-align: middle;\n",
       "    }\n",
       "\n",
       "    .dataframe tbody tr th {\n",
       "        vertical-align: top;\n",
       "    }\n",
       "\n",
       "    .dataframe thead th {\n",
       "        text-align: right;\n",
       "    }\n",
       "</style>\n",
       "<table border=\"1\" class=\"dataframe\">\n",
       "  <thead>\n",
       "    <tr style=\"text-align: right;\">\n",
       "      <th></th>\n",
       "      <th>Indigenous languages</th>\n",
       "      <th>No. of speakers</th>\n",
       "      <th>Non_mother-tongue_speakers_No</th>\n",
       "      <th>Non_mother-tongue_speakers_ratio</th>\n",
       "    </tr>\n",
       "  </thead>\n",
       "  <tbody>\n",
       "    <tr>\n",
       "      <th>24</th>\n",
       "      <td>Tlingit</td>\n",
       "      <td>175</td>\n",
       "      <td>175.0</td>\n",
       "      <td>1.000000</td>\n",
       "    </tr>\n",
       "    <tr>\n",
       "      <th>22</th>\n",
       "      <td>Shuswap</td>\n",
       "      <td>1650</td>\n",
       "      <td>1400.0</td>\n",
       "      <td>0.848485</td>\n",
       "    </tr>\n",
       "    <tr>\n",
       "      <th>23</th>\n",
       "      <td>Nisga'a</td>\n",
       "      <td>1090</td>\n",
       "      <td>840.0</td>\n",
       "      <td>0.770642</td>\n",
       "    </tr>\n",
       "    <tr>\n",
       "      <th>16</th>\n",
       "      <td>South Slavey</td>\n",
       "      <td>2315</td>\n",
       "      <td>1715.0</td>\n",
       "      <td>0.740821</td>\n",
       "    </tr>\n",
       "    <tr>\n",
       "      <th>2</th>\n",
       "      <td>Ojibwe</td>\n",
       "      <td>32460</td>\n",
       "      <td>21345.0</td>\n",
       "      <td>0.657579</td>\n",
       "    </tr>\n",
       "    <tr>\n",
       "      <th>21</th>\n",
       "      <td>Mohawk</td>\n",
       "      <td>615</td>\n",
       "      <td>325.0</td>\n",
       "      <td>0.528455</td>\n",
       "    </tr>\n",
       "    <tr>\n",
       "      <th>15</th>\n",
       "      <td>North Slavey (Hare)</td>\n",
       "      <td>1235</td>\n",
       "      <td>585.0</td>\n",
       "      <td>0.473684</td>\n",
       "    </tr>\n",
       "    <tr>\n",
       "      <th>20</th>\n",
       "      <td>Kutchin-Gwich’in (Loucheaux)</td>\n",
       "      <td>570</td>\n",
       "      <td>215.0</td>\n",
       "      <td>0.377193</td>\n",
       "    </tr>\n",
       "    <tr>\n",
       "      <th>12</th>\n",
       "      <td>Carrier</td>\n",
       "      <td>2495</td>\n",
       "      <td>935.0</td>\n",
       "      <td>0.374749</td>\n",
       "    </tr>\n",
       "    <tr>\n",
       "      <th>9</th>\n",
       "      <td>Blackfoot</td>\n",
       "      <td>4915</td>\n",
       "      <td>1830.0</td>\n",
       "      <td>0.372330</td>\n",
       "    </tr>\n",
       "    <tr>\n",
       "      <th>19</th>\n",
       "      <td>Inuinnaqtun</td>\n",
       "      <td>580</td>\n",
       "      <td>210.0</td>\n",
       "      <td>0.362069</td>\n",
       "    </tr>\n",
       "    <tr>\n",
       "      <th>5</th>\n",
       "      <td>Oji-Cree (Anishinini)</td>\n",
       "      <td>12605</td>\n",
       "      <td>4125.0</td>\n",
       "      <td>0.327251</td>\n",
       "    </tr>\n",
       "    <tr>\n",
       "      <th>17</th>\n",
       "      <td>Malecite</td>\n",
       "      <td>790</td>\n",
       "      <td>255.0</td>\n",
       "      <td>0.322785</td>\n",
       "    </tr>\n",
       "    <tr>\n",
       "      <th>18</th>\n",
       "      <td>Chipewyan</td>\n",
       "      <td>770</td>\n",
       "      <td>245.0</td>\n",
       "      <td>0.318182</td>\n",
       "    </tr>\n",
       "    <tr>\n",
       "      <th>11</th>\n",
       "      <td>Algonquin</td>\n",
       "      <td>2685</td>\n",
       "      <td>765.0</td>\n",
       "      <td>0.284916</td>\n",
       "    </tr>\n",
       "    <tr>\n",
       "      <th>13</th>\n",
       "      <td>Gitksan</td>\n",
       "      <td>1575</td>\n",
       "      <td>400.0</td>\n",
       "      <td>0.253968</td>\n",
       "    </tr>\n",
       "  </tbody>\n",
       "</table>\n",
       "</div>"
      ],
      "text/plain": [
       "            Indigenous languages  ...  Non_mother-tongue_speakers_ratio\n",
       "24                       Tlingit  ...                          1.000000\n",
       "22                       Shuswap  ...                          0.848485\n",
       "23                       Nisga'a  ...                          0.770642\n",
       "16                  South Slavey  ...                          0.740821\n",
       "2                         Ojibwe  ...                          0.657579\n",
       "21                        Mohawk  ...                          0.528455\n",
       "15           North Slavey (Hare)  ...                          0.473684\n",
       "20  Kutchin-Gwich’in (Loucheaux)  ...                          0.377193\n",
       "12                       Carrier  ...                          0.374749\n",
       "9                      Blackfoot  ...                          0.372330\n",
       "19                   Inuinnaqtun  ...                          0.362069\n",
       "5          Oji-Cree (Anishinini)  ...                          0.327251\n",
       "17                      Malecite  ...                          0.322785\n",
       "18                     Chipewyan  ...                          0.318182\n",
       "11                     Algonquin  ...                          0.284916\n",
       "13                       Gitksan  ...                          0.253968\n",
       "\n",
       "[16 rows x 4 columns]"
      ]
     },
     "execution_count": 30,
     "metadata": {
      "tags": []
     },
     "output_type": "execute_result"
    }
   ],
   "source": [
    "large_second_lang.sort_values(\"Non_mother-tongue_speakers_ratio\", ascending=False)[[\"Indigenous languages\", \"No. of speakers\", \"Non_mother-tongue_speakers_No\", \"Non_mother-tongue_speakers_ratio\"]]\n"
   ]
  },
  {
   "cell_type": "markdown",
   "metadata": {
    "id": "J4sffly3OU0S"
   },
   "source": [
    "Tlingit has no mother-tongue speakers.\n",
    "\n",
    "Shuswap, Nisga'a, South Slavey, Ojibwe and Mohawk have over 50% non mother-tongue speakers.\n",
    "\n",
    "North Slavey (Hare), Kutchin-Gwich’in (Loucheaux), Carrier, Blackfoot, Inuinnaqtun, Oji-Cree (Anishinini), Malecite, Chipewyan, Algonquin, and Gitksan had proportions between 25% to 47.4%, in terms of non mother-tongue speakers."
   ]
  },
  {
   "cell_type": "markdown",
   "metadata": {
    "id": "AUxg-A-DNTjd"
   },
   "source": [
    "## **Conclusion**\n",
    "\n",
    "According to Statistics Canada, there are over 70 Indigenous languages spoken in Canada. Therefore the dataset used here lacks information on 44 languages. Statistics Canada also has more recent data from the 2016 census.\n",
    "\n",
    "However, I chose this dataset because it provided some information on all speakers, mother tongue speakers, and home language. The survey from 2001-2002 is old, but could provide a baseline for future comparaison.\n",
    "\n",
    "The five most spoken languages accounted for over 90% of the Indigenous speakers. This demonstrates the extent that Indigenous languages are under threat. Fifteen languages had more than 25% non mother-tongue speakers. Is this due to revitalization in Indigenous language learning, or to a decline in passing down mother-tongue languages? More analysis and comparaison with new data will be necessary to answer that question.\n",
    "\n",
    "In the appendix, there is research I did on categorizing languages by language family. There are many references there, as I could not find one source with all the information required. I would like to come back to this project and be able to add data on family language groups to the dataframe.\n",
    "\n",
    "I have lived in Canada for over 45 years, and it is humbling to see to what extent I do not know anything about Indigenous languages and cultures. This is a first step in a long journey to doing my part in reconciliation.\n",
    "\n",
    "### **References**\n",
    "https://www12.statcan.gc.ca/census-recensement/2016/as-sa/98-200-x/2016022/98-200-x2016022-eng.cfm"
   ]
  },
  {
   "cell_type": "markdown",
   "metadata": {
    "id": "uYlfM0ipbt3s"
   },
   "source": [
    "## **Appendix**\n",
    "\n",
    "### **References**\n",
    "\n",
    "https://www12.statcan.gc.ca/census-recensement/2016/as-sa/98-200-x/2016022/98-200-x2016022-eng.cfm\n",
    "\n",
    "https://www.thecanadianencyclopedia.ca/en/article/aboriginal-people-lang\n",
    "\n",
    "https://en.wikipedia.org/wiki/Maliseet\n",
    "\n",
    "https://en.wikipedia.org/wiki/Chipewyan\n",
    "\n",
    "\n",
    "https://en.wikipedia.org/wiki/Inuinnaqtun\n",
    "\n",
    "https://en.wikipedia.org/wiki/Inuit_Sign_Language\n",
    "\n",
    "https://en.wikipedia.org/wiki/Tsimshian\n",
    "\n",
    "\n",
    "\n"
   ]
  },
  {
   "cell_type": "code",
   "execution_count": null,
   "metadata": {
    "id": "GoMM0qXxcDkB"
   },
   "outputs": [],
   "source": [
    "  Algonquian = [\"Cree\", \"Ojibwe\", \"Montagnais-Naskapi (Innu)\", \"Oji-Cree (Anishinini)\", \"Mi'kmaq\", \"Atikamekw\", \"Blackfoot\", \"Algonquin\", \"Malecite\"]\n",
    "  Inuit = [\"Inuktitut\", \"Inuinnaqtun\", \"Atgangmuurngniq\"]\n",
    "  Athabaskan = [\"Dene Suline\", \"Tłįchǫ (Dogrib)\", \"Carrier\", \"Chilcotin\", \"North Slavey (Hare)\", \"South Slavey\", \"Kutchin-Gwich’in (Loucheaux)\", \"Tlingit\"]\n",
    "  Siouan = [\"Siouan languages (Dakota/Sioux)\"]\n",
    "  Salishan = [\"Shuswap\"]\n",
    "  Tsimshian = [\"Gitksan\", \"Nisga'a\"]\n",
    "  Iroquoian = [\"Mohawk\"]\n",
    "\n",
    "  family_dict = {'Algonquian': Algonquian,'Inuit': Inuit, 'Athabaskan': Athabaskan, \"Siouan\": Siouan, \"Salishan\": Salishan, \"Tsimshian\": Tsimshian, \"Iroquoian\":Iroquoian}\n"
   ]
  }
 ],
 "metadata": {
  "colab": {
   "collapsed_sections": [],
   "name": "PASS Project_2_Indigenous_Languages_spoken_in_Canada_Celia_Fuentes.ipynb",
   "provenance": [],
   "toc_visible": true
  },
  "kernelspec": {
   "display_name": "Python 3",
   "language": "python",
   "name": "python3"
  },
  "language_info": {
   "codemirror_mode": {
    "name": "ipython",
    "version": 3
   },
   "file_extension": ".py",
   "mimetype": "text/x-python",
   "name": "python",
   "nbconvert_exporter": "python",
   "pygments_lexer": "ipython3",
   "version": "3.8.5"
  }
 },
 "nbformat": 4,
 "nbformat_minor": 1
}
